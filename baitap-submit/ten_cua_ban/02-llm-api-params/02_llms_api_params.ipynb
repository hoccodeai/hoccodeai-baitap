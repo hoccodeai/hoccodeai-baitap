{
  "cells": [
    {
      "cell_type": "code",
      "execution_count": 1,
      "metadata": {
        "colab": {
          "base_uri": "https://localhost:8080/"
        },
        "id": "XmCk7DNlP-AQ",
        "outputId": "5d070cb3-2fbc-4a74-bae3-fa1a71300789"
      },
      "outputs": [
        {
          "name": "stdout",
          "output_type": "stream",
          "text": [
            "Requirement already satisfied: OpenAI in /usr/local/lib/python3.10/dist-packages (1.57.4)\n",
            "Requirement already satisfied: anyio<5,>=3.5.0 in /usr/local/lib/python3.10/dist-packages (from OpenAI) (3.7.1)\n",
            "Requirement already satisfied: distro<2,>=1.7.0 in /usr/local/lib/python3.10/dist-packages (from OpenAI) (1.9.0)\n",
            "Requirement already satisfied: httpx<1,>=0.23.0 in /usr/local/lib/python3.10/dist-packages (from OpenAI) (0.28.1)\n",
            "Requirement already satisfied: jiter<1,>=0.4.0 in /usr/local/lib/python3.10/dist-packages (from OpenAI) (0.8.2)\n",
            "Requirement already satisfied: pydantic<3,>=1.9.0 in /usr/local/lib/python3.10/dist-packages (from OpenAI) (2.10.3)\n",
            "Requirement already satisfied: sniffio in /usr/local/lib/python3.10/dist-packages (from OpenAI) (1.3.1)\n",
            "Requirement already satisfied: tqdm>4 in /usr/local/lib/python3.10/dist-packages (from OpenAI) (4.67.1)\n",
            "Requirement already satisfied: typing-extensions<5,>=4.11 in /usr/local/lib/python3.10/dist-packages (from OpenAI) (4.12.2)\n",
            "Requirement already satisfied: idna>=2.8 in /usr/local/lib/python3.10/dist-packages (from anyio<5,>=3.5.0->OpenAI) (3.10)\n",
            "Requirement already satisfied: exceptiongroup in /usr/local/lib/python3.10/dist-packages (from anyio<5,>=3.5.0->OpenAI) (1.2.2)\n",
            "Requirement already satisfied: certifi in /usr/local/lib/python3.10/dist-packages (from httpx<1,>=0.23.0->OpenAI) (2024.12.14)\n",
            "Requirement already satisfied: httpcore==1.* in /usr/local/lib/python3.10/dist-packages (from httpx<1,>=0.23.0->OpenAI) (1.0.7)\n",
            "Requirement already satisfied: h11<0.15,>=0.13 in /usr/local/lib/python3.10/dist-packages (from httpcore==1.*->httpx<1,>=0.23.0->OpenAI) (0.14.0)\n",
            "Requirement already satisfied: annotated-types>=0.6.0 in /usr/local/lib/python3.10/dist-packages (from pydantic<3,>=1.9.0->OpenAI) (0.7.0)\n",
            "Requirement already satisfied: pydantic-core==2.27.1 in /usr/local/lib/python3.10/dist-packages (from pydantic<3,>=1.9.0->OpenAI) (2.27.1)\n"
          ]
        }
      ],
      "source": [
        "!pip install OpenAI"
      ]
    },
    {
      "cell_type": "code",
      "execution_count": 2,
      "metadata": {
        "id": "7HgkQALfdfOm"
      },
      "outputs": [],
      "source": [
        "# %%capture\n",
        "# !pip install openai==1.55.3 httpx==0.27.2 --force-reinstall --quiet"
      ]
    },
    {
      "cell_type": "code",
      "execution_count": 3,
      "metadata": {
        "id": "OxNJkh5GduHG"
      },
      "outputs": [],
      "source": [
        "# import os\n",
        "# os.kill(os.getpid(), 9)"
      ]
    },
    {
      "cell_type": "code",
      "execution_count": 4,
      "metadata": {
        "id": "1X4d6rPMdLvd"
      },
      "outputs": [],
      "source": [
        "import os\n",
        "from openai import OpenAI\n",
        "\n",
        "# Nếu các bạn dùng OpenAI\n",
        "client = OpenAI(\n",
        "    base_url=\"https://api.openai.com/v1\",\n",
        "    # Lấy API Key tại https://platform.openai.com/api-keys\n",
        "    # Đừng share API Key với bạn bè vì số lượng có hạn\n",
        "    api_key = \"x\",\n",
        ")"
      ]
    },
    {
      "cell_type": "markdown",
      "metadata": {
        "id": "UWSRLGeEYcK0"
      },
      "source": [
        "1"
      ]
    },
    {
      "cell_type": "code",
      "execution_count": 5,
      "metadata": {
        "colab": {
          "base_uri": "https://localhost:8080/"
        },
        "id": "2SiwSLhf5nOF",
        "outputId": "48ef5fe9-89fc-49e3-e203-5161ae481711"
      },
      "outputs": [
        {
          "name": "stdout",
          "output_type": "stream",
          "text": [
            "ChatCompletionMessage(content='What are you eating? And where are you eating it? Just making sure everything’s in order here.', refusal=None, role='assistant', audio=None, function_call=None, tool_calls=None)\n",
            "What are you eating? And where are you eating it? Just making sure everything’s in order here.\n",
            "[\n",
            " {\n",
            "  \"role\": \"user\",\n",
            "  \"content\": \"Hello. Who are you. Act like a police hehe.\"\n",
            " },\n",
            " {\n",
            "  \"role\": \"user\",\n",
            "  \"content\": \"what are you doing.\"\n",
            " },\n",
            " {\n",
            "  \"role\": \"user\",\n",
            "  \"content\": \"I am eating.\"\n",
            " }\n",
            "]\n"
          ]
        }
      ],
      "source": [
        "import json\n",
        "\n",
        "messages = [\n",
        "    {\n",
        "        \"role\": \"user\",\n",
        "        \"content\": \"Hello. Who are you. Act like a police hehe.\",\n",
        "    },\n",
        "    {\n",
        "        \"role\": \"user\",\n",
        "        \"content\": \"what are you doing.\",\n",
        "    },\n",
        "    {\n",
        "        \"role\": \"user\",\n",
        "        \"content\": \"I am eating.\",\n",
        "    }\n",
        "]\n",
        "\n",
        "chat_completion = client.chat.completions.create(\n",
        "    messages=messages,\n",
        "    model=\"gpt-4o-mini\"\n",
        ")\n",
        "\n",
        "# Print results\n",
        "print(chat_completion.choices[0].message)\n",
        "print(chat_completion.choices[0].message.content)\n",
        "\n",
        "# Optional: Print messages as JSON\n",
        "x = json.dumps(messages, indent=1)\n",
        "print(x)\n"
      ]
    },
    {
      "cell_type": "code",
      "execution_count": 6,
      "metadata": {
        "colab": {
          "base_uri": "https://localhost:8080/"
        },
        "id": "vLPjHRqmjx-j",
        "outputId": "3e1e8d05-8b92-4605-bc15-7a42dfca8b35"
      },
      "outputs": [
        {
          "name": "stdout",
          "output_type": "stream",
          "text": [
            "[{'role': 'user', 'content': 'Hello. Who are you. Act like a police hehe.'}, {'role': 'user', 'content': 'what are you doing.'}, {'role': 'user', 'content': 'I am eating.'}]\n"
          ]
        }
      ],
      "source": [
        "print(messages)"
      ]
    },
    {
      "cell_type": "markdown",
      "metadata": {
        "id": "8F7ophSgYejU"
      },
      "source": [
        "2"
      ]
    },
    {
      "cell_type": "code",
      "execution_count": 7,
      "metadata": {
        "colab": {
          "base_uri": "https://localhost:8080/"
        },
        "id": "a2cH9UJ0Zm_t",
        "outputId": "68a6bdda-5ca3-4c76-8482-b4d02f6f2cab"
      },
      "outputs": [
        {
          "name": "stdout",
          "output_type": "stream",
          "text": [
            "Ôi, Paris thật là một thành phố lãng mạn và đầy hấp dẫn! Có rất nhiều điểm đến thú vị ở đây mà bạn không thể bỏ lỡ:\n",
            "\n",
            "1. **Tháp Eiffel**: Đây là biểu tượng của Paris và là nơi hoàn hảo để ngắm hoàng hôn! Hãy dành thời gian để lên đỉnh và cảm nhận một Paris tuyệt đẹp từ trên cao nhé.\n",
            "\n",
            "2. **Bảo tàng Louvre**: Nếu bạn yêu nghệ thuật, bạn nhất định phải ghé thăm bảo tàng nổi tiếng này. Đừng quên chụp ảnh với bức tranh \"Mona Lisa\" nhé!\n",
            "\n",
            "3. **Nhà thờ Đức Bà Paris**: Một kiệt tác kiến trúc Gothic, nơi bạn có thể tìm thấy vẻ đẹp văn hóa và lịch sử của thành phố.\n",
            "\n",
            "4. **Khu phố Montmartre**: Nơi nổi tiếng với những nghệ sĩ đường phố và bầu không khí lãng mạn. Hãy dạo quanh và thưởng thức cà phê tại một quán nhỏ trong khu vực này!\n",
            "\n",
            "5. **Công viên Luxembourg**: Rất thích hợp cho những buổi chiều thư giãn, với không gian xanh mát và những con đường đi dạo dễ thương.\n",
            "\n",
            "6. **Dạo quanh sông Seine**: Một chuyến đi dạo bên bờ sông sẽ mang lại cho bạn cảm giác yên bình và lãng mạn, đặc biệt là lúc hoàng hôn.\n",
            "\n",
            "Nếu bạn cần thêm gợi ý hay muốn biết thêm về điều gì khác, cứ thoải mái hỏi mình nhé! 😉\n"
          ]
        }
      ],
      "source": [
        "long_chat_completion = client.chat.completions.create(\n",
        "    messages=[\n",
        "\t{\n",
        "\t\t\"role\": \"system\",\n",
        "\t\t\"content\": \"You are a friendly and flirty female tour guide.\",\n",
        "\t},\n",
        "\t{\n",
        "\t\t\"role\": \"user\",\n",
        "\t\t\"content\": \"Thủ đô của Pháp là gì?\",\n",
        "\t},\n",
        "\t{\n",
        "\t\t\"role\": \"assistant\",\n",
        "\t\t\"content\": \"Thủ đô của Pháp là Paris.\",\n",
        "\t},\n",
        "\t{\n",
        "\t\t\"role\": \"user\",\n",
        "\t\t\"content\": \"Tới đó rồi thì nên đi đâu chơi?\",\n",
        "\t}\n",
        "\t],\n",
        "    model=\"gpt-4o-mini\"\n",
        ")\n",
        "\n",
        "#print(long_chat_completion.choices[0].message.content)\n",
        "\n",
        "previous_messages = \t[\n",
        "\t{\n",
        "\t\t\"role\": \"system\",\n",
        "\t\t\"content\": \"You are a friendly and flirty female tour guide.\",\n",
        "\t},\n",
        "\t{\n",
        "\t\t\"role\": \"user\",\n",
        "\t\t\"content\": \"Thủ đô của Pháp là gì?\",\n",
        "\t},\n",
        "\t{\n",
        "\t\t\"role\": \"assistant\",\n",
        "\t\t\"content\": \"Thủ đô của Pháp là Paris.\",\n",
        "\t},\n",
        "\t{\n",
        "\t\t\"role\": \"user\",\n",
        "\t\t\"content\": \"Tới đó rồi thì nên đi đâu chơi?\",\n",
        "\t}\n",
        "\t],\n",
        "\n",
        "print(long_chat_completion.choices[0].message.content)\n",
        "response = long_chat_completion.choices[0].message.content\n"
      ]
    },
    {
      "cell_type": "code",
      "execution_count": 8,
      "metadata": {
        "colab": {
          "base_uri": "https://localhost:8080/"
        },
        "id": "RgR73OhShiVY",
        "outputId": "b8824a3b-6da1-469f-d397-1db455723fc9"
      },
      "outputs": [
        {
          "name": "stdout",
          "output_type": "stream",
          "text": [
            "Ôi, Paris thật là một thành phố lãng mạn và đầy hấp dẫn! Có rất nhiều điểm đến thú vị ở đây mà bạn không thể bỏ lỡ:\n",
            "\n",
            "1. **Tháp Eiffel**: Đây là biểu tượng của Paris và là nơi hoàn hảo để ngắm hoàng hôn! Hãy dành thời gian để lên đỉnh và cảm nhận một Paris tuyệt đẹp từ trên cao nhé.\n",
            "\n",
            "2. **Bảo tàng Louvre**: Nếu bạn yêu nghệ thuật, bạn nhất định phải ghé thăm bảo tàng nổi tiếng này. Đừng quên chụp ảnh với bức tranh \"Mona Lisa\" nhé!\n",
            "\n",
            "3. **Nhà thờ Đức Bà Paris**: Một kiệt tác kiến trúc Gothic, nơi bạn có thể tìm thấy vẻ đẹp văn hóa và lịch sử của thành phố.\n",
            "\n",
            "4. **Khu phố Montmartre**: Nơi nổi tiếng với những nghệ sĩ đường phố và bầu không khí lãng mạn. Hãy dạo quanh và thưởng thức cà phê tại một quán nhỏ trong khu vực này!\n",
            "\n",
            "5. **Công viên Luxembourg**: Rất thích hợp cho những buổi chiều thư giãn, với không gian xanh mát và những con đường đi dạo dễ thương.\n",
            "\n",
            "6. **Dạo quanh sông Seine**: Một chuyến đi dạo bên bờ sông sẽ mang lại cho bạn cảm giác yên bình và lãng mạn, đặc biệt là lúc hoàng hôn.\n",
            "\n",
            "Nếu bạn cần thêm gợi ý hay muốn biết thêm về điều gì khác, cứ thoải mái hỏi mình nhé! 😉\n",
            "[{'role': 'user', 'content': 'Hello. Who are you. Act like a police hehe.'}, {'role': 'user', 'content': 'what are you doing.'}, {'role': 'user', 'content': 'I am eating.'}, [{'role': 'system', 'content': 'You are a friendly and flirty female tour guide.'}, {'role': 'user', 'content': 'Thủ đô của Pháp là gì?'}, {'role': 'assistant', 'content': 'Thủ đô của Pháp là Paris.'}, {'role': 'user', 'content': 'Tới đó rồi thì nên đi đâu chơi?'}], 'Ôi, Paris thật là một thành phố lãng mạn và đầy hấp dẫn! Có rất nhiều điểm đến thú vị ở đây mà bạn không thể bỏ lỡ:\\n\\n1. **Tháp Eiffel**: Đây là biểu tượng của Paris và là nơi hoàn hảo để ngắm hoàng hôn! Hãy dành thời gian để lên đỉnh và cảm nhận một Paris tuyệt đẹp từ trên cao nhé.\\n\\n2. **Bảo tàng Louvre**: Nếu bạn yêu nghệ thuật, bạn nhất định phải ghé thăm bảo tàng nổi tiếng này. Đừng quên chụp ảnh với bức tranh \"Mona Lisa\" nhé!\\n\\n3. **Nhà thờ Đức Bà Paris**: Một kiệt tác kiến trúc Gothic, nơi bạn có thể tìm thấy vẻ đẹp văn hóa và lịch sử của thành phố.\\n\\n4. **Khu phố Montmartre**: Nơi nổi tiếng với những nghệ sĩ đường phố và bầu không khí lãng mạn. Hãy dạo quanh và thưởng thức cà phê tại một quán nhỏ trong khu vực này!\\n\\n5. **Công viên Luxembourg**: Rất thích hợp cho những buổi chiều thư giãn, với không gian xanh mát và những con đường đi dạo dễ thương.\\n\\n6. **Dạo quanh sông Seine**: Một chuyến đi dạo bên bờ sông sẽ mang lại cho bạn cảm giác yên bình và lãng mạn, đặc biệt là lúc hoàng hôn.\\n\\nNếu bạn cần thêm gợi ý hay muốn biết thêm về điều gì khác, cứ thoải mái hỏi mình nhé! 😉']\n"
          ]
        }
      ],
      "source": [
        "print(response)\n",
        "messages.extend(previous_messages)\n",
        "messages.append(response)\n",
        "print(messages)"
      ]
    },
    {
      "cell_type": "markdown",
      "metadata": {
        "id": "nr5-JLhgw7lj"
      },
      "source": [
        "3"
      ]
    },
    {
      "cell_type": "code",
      "execution_count": 14,
      "metadata": {
        "colab": {
          "base_uri": "https://localhost:8080/"
        },
        "id": "RJWyg9tzonoE",
        "outputId": "b96c6ba7-f572-4ee0-c584-f055e4977be5"
      },
      "outputs": [
        {
          "name": "stdout",
          "output_type": "stream",
          "text": [
            "Paste the news article link: https://tuoitre.vn/cac-nha-khoa-hoc-nga-bao-mat-troi-manh-nhat-20-nam-sap-do-bo-trai-dat-2024051020334196.htm\n",
            "\n",
            "Article Content:\n",
            "\n",
            " Hình ảnh mô tả các đám mây từ trường do Mặt trời giải phóng tương tác với từ trường của Trái đất tạo ra hiện tượng bão từ - Ảnh: GAZETA Trả lời Hãng thông tấn Nga RIA hôm 10-5, ông Sergei Bogachev - người đứng đầu phòng thí nghiệm thiên văn Mặt trời tại Viện nghiên cứu Vũ trụ, trực thuộc Viện hàn lâm Khoa học Nga - cho biết Trái đất có thể đón một cơn bão từ (CME) từ Mặt trời mạnh nhất trong 20 năm qua trong đêm 10-5 hoặc rạng sáng 11-5. “Trong vòng ba ngày, Mặt trời đã giải phóng bốn đám mây plasma lớn về phía hành tinh của chúng ta. Một trong số các đám mây plasma đó sẽ va vào từ trường củaTrái đấttrong tối nay 10-5 (tức rạng sáng 11-5 theo giờ Việt Nam)”, ông Bogachev nói. Các nhà nghiên cứu thiên văn tại Viện hàn lâm Khoa học Nga dự đoán cơnbão mặt trờisắp tới có thể đạt tối thiểu cấp G4,33 trên thang đo 5 cấp do Cơ quan Khí quyển và Đại dương quốc gia Mỹ (NOAA) sử dụng để đánh giá mức độ nghiêm trọng của các sự kiện thời tiết không gian. Theo thang đo trên, các cơn bão mặt trời cấp G1 là yếu nhất và hầu như không ảnh hưởng đến hoạt động của các thiết bị điện. Các cơn bão đạt cấp G3 ảnh hưởng trực tiếp đếnhệ thống điện, gây gián đoạn hệ thống định vị vệ tinh và hệ thống liên lạc vô tuyến. Ở mức G5, các cơn bão mặt trờicó thể khiến lưới điện gặp sự cố quy mô lớn, gây ảnh hưởng nghiêm trọng đến các vệ tinh và hệ thống liên lạc vô tuyến. Đặc biệt, các nhà nghiên cứu Nga cũng đưa ra xác suất cơn bão địa từ này đạt cấp G5 rơi vào khoảng 15%. Nếu cơn bão này thật sự đạt cấp G5 thì đây sẽ là lần đầu tiên Trái đất hứng chịu bão địa từ ở cấp cao nhất kể từ năm 2005. Các nhà nghiên cứu Nga nói rằng các cơnbão địa từ mạnh có thể khiến con người bị đau đầu, mệt mỏi, tim đập nhanh, tăng huyết áp, tâm trạng thay đổi thất thường và mất ngủ. Họ dẫn một số báo cáo chính thức cho thấy tỉ lệ tử vong do đau tim và đột quỵ tăng nhẹ trong thời gian diễn ra hiện tượng thiên văn này. Trong khi đó, khoảng ¾ người dân trên Trái đất có thể cảm thấy không khỏe, đặc biệt là những người nhạy cảm với thời tiết và những người mắc các bệnh tim mạch. Giải thích cho hiện tượng này, các nhà khoa học cho biết bão điện từ của Mặt trời (hay bão Mặt trời) là hiện tượng đám mâytừ trườngcủa Mặt trời tương tác với từ trường của Trái đất và làm xáo động từ trường của hành tinh xanh. Từ đó dẫn đến lưu thông máu trong mạng lưới mao mạch bị chậm lại, đồng thời gây ra tình trạng thiếu oxy ở một số mô. Tuy nhiên, các nhà khoa học nhận định hiện tượng thiên văn này không ảnh hưởng quá nhiều đến sức khỏe con người và mọi người chỉ cần sinh hoạt lành mạnh, tránh căng thẳng và chăm sóc sức khỏe hợp lý. Nhật thực ngày 8-4 rất đặc biệt khi xảy ra vào lúc cực đại Mặt trời, là nhật thực toàn phần dài nhất ở Mỹ kể từ năm 1806, cũng là nhật thực toàn phần tối nhất ở Mỹ trong vòng 217 năm.\n",
            "\n",
            "Summary of the Article:\n",
            "\n",
            " Bài viết đề cập đến một cơn bão từ (CME) mạnh từ Mặt trời có khả năng ảnh hưởng đến Trái đất trong đêm 10-5 hoặc rạng sáng 11-5, được xác định là cơn bão mạnh nhất trong 20 năm qua. Ông Sergei Bogachev từ Viện nghiên cứu Vũ trụ Nga cho biết, trong ba ngày, Mặt trời đã phóng ra bốn đám mây plasma lớn, trong đó một đám mây sẽ va chạm với từ trường Trái đất. Dự đoán, cơn bão có thể đạt cấp G4, với 15% xác suất đạt cấp G5, gây ra ảnh hưởng nghiêm trọng đến hệ thống điện và liên lạc. Ngoài ra, hiện tượng thiên văn này có thể gây ra các vấn đề sức khỏe như đau đầu, mệt mỏi và tăng huyết áp cho khoảng ¾ dân số, đặc biệt là những người nhạy cảm với thời tiết. Tuy nhiên, các nhà khoa học khuyến cáo rằng mọi người chỉ cần giữ thói quen sinh hoạt lành mạnh để giảm thiểu tác động của cơn bão từ này.\n"
          ]
        }
      ],
      "source": [
        "import requests\n",
        "from bs4 import BeautifulSoup\n",
        "\n",
        "# Function to scrape website content\n",
        "def scrape_website(url):\n",
        "    response = requests.get(url)\n",
        "    if response.status_code != 200:\n",
        "        print(f\"Failed to fetch the website: {response.status_code}\")\n",
        "        return None\n",
        "\n",
        "    soup = BeautifulSoup(response.text, 'html.parser')\n",
        "    content_div = soup.find('div', class_='detail-content afcbc-body')\n",
        "\n",
        "    if not content_div:\n",
        "        print(\"Content not found.\")\n",
        "        return None\n",
        "\n",
        "    # Extract paragraphs within the content div\n",
        "    paragraphs = content_div.find_all('p')\n",
        "    #paragraphs = content_div.find_all('detail__section')\n",
        "    content = ' '.join([p.get_text(strip=True) for p in paragraphs])\n",
        "    return content\n",
        "\n",
        "def summarize_text(text):\n",
        "  try:\n",
        "    response=client.chat.completions.create(\n",
        "      messages=[\n",
        "        {\"role\": \"user\", \"content\": f\"Bạn là một nhà văn siêu cấp,hãy tóm tắt bài viết dưới đây theo nhuững cách sau ,lưu ý đọc kĩ văn bản gốc , tìm ý chính của từng phần hoặc đoạn và xác định giữa các đoạn , từ ngữ quan trọng . 2  các ý chính của văn bản gốc theo trình tự hợp .3 độ dài khoảng 5-6 câu  .Output vietnamese : {text}\"\n",
        "        }\n",
        "      ],\n",
        "      model=\"gpt-4o-mini\",\n",
        "      temperature=0.7,\n",
        "      max_tokens=1000,\n",
        "      top_p=0.92\n",
        "    )\n",
        "\n",
        "    summary = response.choices[0].message.content\n",
        "    return summary\n",
        "  except Exception as e:\n",
        "    print(f\"Error while summarizing: {e}\")\n",
        "    return None\n",
        "\n",
        "\n",
        "\n",
        "\n",
        "if __name__ == \"__main__\":\n",
        "    url = input(\"Paste the news article link: \")\n",
        "    article_content = scrape_website(url)\n",
        "\n",
        "    if article_content:\n",
        "        print(\"\\nArticle Content:\\n\\n\", article_content)\n",
        "        summary = summarize_text(article_content)\n",
        "        if summary:\n",
        "            print(\"\\nSummary of the Article:\\n\\n\", summary)\n",
        "        else:\n",
        "            print(\"Failed to generate summary.\")\n",
        "    else:\n",
        "        print(\"Failed to extract article content.\")\n"
      ]
    },
    {
      "cell_type": "markdown",
      "metadata": {
        "id": "MnH_apMtALfL"
      },
      "source": [
        " Bài viết đề cập đến một cơn bão từ (CME) mạnh từ Mặt trời có khả năng ảnh hưởng đến Trái đất trong đêm 10-5 hoặc rạng sáng 11-5, được xác định là cơn bão mạnh nhất trong 20 năm qua. Ông Sergei Bogachev từ Viện nghiên cứu Vũ trụ Nga cho biết, trong ba ngày, Mặt trời đã phóng ra bốn đám mây plasma lớn, trong đó một đám mây sẽ va chạm với từ trường Trái đất. Dự đoán, cơn bão có thể đạt cấp G4, với 15% xác suất đạt cấp G5, gây ra ảnh hưởng nghiêm trọng đến hệ thống điện và liên lạc. Ngoài ra, hiện tượng thiên văn này có thể gây ra các vấn đề sức khỏe như đau đầu, mệt mỏi và tăng huyết áp cho khoảng ¾ dân số, đặc biệt là những người nhạy cảm với thời tiết. Tuy nhiên, các nhà khoa học khuyến cáo rằng mọi người chỉ cần giữ thói quen sinh hoạt lành mạnh để giảm thiểu tác động của cơn bão từ này."
      ]
    },
    {
      "cell_type": "markdown",
      "metadata": {
        "id": "rBZjc_wT0VBK"
      },
      "source": [
        "4"
      ]
    },
    {
      "cell_type": "code",
      "execution_count": 10,
      "metadata": {
        "colab": {
          "base_uri": "https://localhost:8080/"
        },
        "id": "TnQonipC8NG9",
        "outputId": "5dc5b1d2-2a51-4831-f67b-11d9b4ac4717"
      },
      "outputs": [
        {
          "name": "stdout",
          "output_type": "stream",
          "text": [
            "Paste the news article link: https://tuoitre.vn/cac-nha-khoa-hoc-nga-bao-mat-troi-manh-nhat-20-nam-sap-do-bo-trai-dat-2024051020334196.htm\n",
            "\n",
            "Article Content:\n",
            "\n",
            " Hình ảnh mô tả các đám mây từ trường do Mặt trời giải phóng tương tác với từ trường của Trái đất tạo ra hiện tượng bão từ - Ảnh: GAZETA Trả lời Hãng thông tấn Nga RIA hôm 10-5, ông Sergei Bogachev - người đứng đầu phòng thí nghiệm thiên văn Mặt trời tại Viện nghiên cứu Vũ trụ, trực thuộc Viện hàn lâm Khoa học Nga - cho biết Trái đất có thể đón một cơn bão từ (CME) từ Mặt trời mạnh nhất trong 20 năm qua trong đêm 10-5 hoặc rạng sáng 11-5. “Trong vòng ba ngày, Mặt trời đã giải phóng bốn đám mây plasma lớn về phía hành tinh của chúng ta. Một trong số các đám mây plasma đó sẽ va vào từ trường củaTrái đấttrong tối nay 10-5 (tức rạng sáng 11-5 theo giờ Việt Nam)”, ông Bogachev nói. Các nhà nghiên cứu thiên văn tại Viện hàn lâm Khoa học Nga dự đoán cơnbão mặt trờisắp tới có thể đạt tối thiểu cấp G4,33 trên thang đo 5 cấp do Cơ quan Khí quyển và Đại dương quốc gia Mỹ (NOAA) sử dụng để đánh giá mức độ nghiêm trọng của các sự kiện thời tiết không gian. Theo thang đo trên, các cơn bão mặt trời cấp G1 là yếu nhất và hầu như không ảnh hưởng đến hoạt động của các thiết bị điện. Các cơn bão đạt cấp G3 ảnh hưởng trực tiếp đếnhệ thống điện, gây gián đoạn hệ thống định vị vệ tinh và hệ thống liên lạc vô tuyến. Ở mức G5, các cơn bão mặt trờicó thể khiến lưới điện gặp sự cố quy mô lớn, gây ảnh hưởng nghiêm trọng đến các vệ tinh và hệ thống liên lạc vô tuyến. Đặc biệt, các nhà nghiên cứu Nga cũng đưa ra xác suất cơn bão địa từ này đạt cấp G5 rơi vào khoảng 15%. Nếu cơn bão này thật sự đạt cấp G5 thì đây sẽ là lần đầu tiên Trái đất hứng chịu bão địa từ ở cấp cao nhất kể từ năm 2005. Các nhà nghiên cứu Nga nói rằng các cơnbão địa từ mạnh có thể khiến con người bị đau đầu, mệt mỏi, tim đập nhanh, tăng huyết áp, tâm trạng thay đổi thất thường và mất ngủ. Họ dẫn một số báo cáo chính thức cho thấy tỉ lệ tử vong do đau tim và đột quỵ tăng nhẹ trong thời gian diễn ra hiện tượng thiên văn này. Trong khi đó, khoảng ¾ người dân trên Trái đất có thể cảm thấy không khỏe, đặc biệt là những người nhạy cảm với thời tiết và những người mắc các bệnh tim mạch. Giải thích cho hiện tượng này, các nhà khoa học cho biết bão điện từ của Mặt trời (hay bão Mặt trời) là hiện tượng đám mâytừ trườngcủa Mặt trời tương tác với từ trường của Trái đất và làm xáo động từ trường của hành tinh xanh. Từ đó dẫn đến lưu thông máu trong mạng lưới mao mạch bị chậm lại, đồng thời gây ra tình trạng thiếu oxy ở một số mô. Tuy nhiên, các nhà khoa học nhận định hiện tượng thiên văn này không ảnh hưởng quá nhiều đến sức khỏe con người và mọi người chỉ cần sinh hoạt lành mạnh, tránh căng thẳng và chăm sóc sức khỏe hợp lý. Nhật thực ngày 8-4 rất đặc biệt khi xảy ra vào lúc cực đại Mặt trời, là nhật thực toàn phần dài nhất ở Mỹ kể từ năm 1806, cũng là nhật thực toàn phần tối nhất ở Mỹ trong vòng 217 năm.\n",
            "\n",
            " Translate of the Article:\n",
            "\n",
            " ### Part 1: Overview of the Solar Storm\n",
            "\n",
            "On May 10th, I learned from Sergei Bogachev, head of the Solar Astronomy Laboratory at the Institute of Space Research, that Earth could experience one of the strongest coronal mass ejections (CMEs) from the Sun in the past 20 years that night or in the early hours of May 11th. He explained that within three days, the Sun had released four large plasma clouds directed toward our planet. One of these plasma clouds was expected to collide with Earth's magnetic field later that night.\n",
            "\n",
            "### Part 2: Predictions and Impacts\n",
            "\n",
            "Astronomers at the Russian Academy of Sciences predicted that this upcoming solar storm might reach at least a G4.33 level on a scale of 5, used by the National Oceanic and Atmospheric Administration (NOAA) to assess the severity of space weather events. According to this scale, G1 storms are the weakest, with negligible effects on electrical systems, while G3 storms can disrupt power systems and affect satellite navigation and radio communication. At the G5 level, solar storms can cause significant power grid failures and severely impact satellites and radio systems. Notably, researchers also indicated a 15% chance that this geomagnetic storm could reach G5. If it does, it would be the first occurrence of such a high-level geomagnetic storm since 2005.\n",
            "\n",
            "### Part 3: Health Effects and Context\n",
            "\n",
            "Russian researchers noted that strong geomagnetic storms could lead to health issues such as headaches, fatigue, rapid heart rates, high blood pressure, mood swings, and insomnia. They referred to official reports that showed a slight increase in mortality rates due to heart attacks and strokes during such astronomical events. Approximately three-quarters of the global population might feel unwell, particularly those sensitive to weather changes or suffering from cardiovascular diseases. Scientists explained that solar electromagnetic storms occur when the Sun's magnetic clouds interact with Earth's magnetic field, causing disturbances. This can slow blood circulation in capillary networks and lead to oxygen deficiency in some tissues. However, they reassured that this astronomical phenomenon does not significantly impact human health, advising people to maintain a healthy lifestyle, manage stress, and take care of their health. The solar eclipse on April 8th was notably special as it occurred during the solar maximum, marking the longest total solar eclipse in the U.S. since 1806 and the darkest total solar eclipse in 217 years.\n",
            "\n",
            "---\n",
            "\n",
            "### Japanese Translation\n",
            "\n",
            "#### パート1: 太陽嵐の概要\n",
            "\n",
            "5月10日、私はロシアの宇宙研究所の太陽天文学研究室の責任者であるセルゲイ・ボガチェフ氏から、地球が過去20年間で最も強力なコロナ質量放出（CME）の影響を受ける可能性があると聞きました。その夜、または5月11日の早朝に発生するとのことでした。彼は、太陽が3日間で地球に向けて4つの大きなプラズマ雲を放出したと説明しました。これらのプラズマ雲の1つが、その晩に地球の磁場に衝突することが予想されていました。\n",
            "\n",
            "#### パート2: 予測と影響\n",
            "\n",
            "ロシア科学アカデミーの天文学者たちは、今後の太陽嵐は、アメリカの国立海洋大気庁（NOAA）が宇宙天気イベントの深刻度を評価するために使用する5段階のスケールで、少なくともG4.33のレベルに達する可能性があると予測しました。このスケールによると、G1の嵐は最も弱く、電気システムにほとんど影響を与えませんが、G3の嵐は電力システムを混乱させ、衛星ナビゲーションや無線通信に影響を与える可能性があります。G5レベルでは、太陽嵐は大規模な電力網の故障を引き起こし、衛星や無線システムに深刻な影響を与えることがあります。特に、研究者たちはこの地磁気嵐がG5に達する確率を約15%と示しました。もしそうなれば、2005年以来、地球がこのような高レベルの地磁気嵐を受けるのは初めてとなります。\n",
            "\n",
            "#### パート3: 健康への影響と背景\n",
            "\n",
            "ロシアの研究者たちは、強い地磁気嵐\n"
          ]
        }
      ],
      "source": [
        "import requests\n",
        "from bs4 import BeautifulSoup\n",
        "\n",
        "def scrape_website(url):\n",
        "    response = requests.get(url)\n",
        "    if response.status_code != 200:\n",
        "        print(f\"Failed to fetch the website: {response.status_code}\")\n",
        "        return None\n",
        "\n",
        "    soup = BeautifulSoup(response.text, 'html.parser')\n",
        "    content_div = soup.find('div', class_='detail-content afcbc-body')\n",
        "\n",
        "    if not content_div:\n",
        "        print(\"Content not found.\")\n",
        "        return None\n",
        "\n",
        "    # Extract paragraphs within the content div\n",
        "    paragraphs = content_div.find_all('p')\n",
        "    #paragraphs = content_div.find_all('detail__section')\n",
        "    content = ' '.join([p.get_text(strip=True) for p in paragraphs])\n",
        "    return content\n",
        "\n",
        "def translate(text):\n",
        "  try:\n",
        "    response=client.chat.completions.create(\n",
        "      messages=[\n",
        "                {\"role\": \"user\", \"content\": f\"translate this article by first person point of view,set a standard vocabulary,skip the jokjes and understand the language and cultural differences, ensure clarity prcision and respect for the languages that you translate. divide it into 3 parts and translate it to english,japanese: {text}\"}\n",
        "\n",
        "      ],\n",
        "      model=\"gpt-4o-mini\",\n",
        "      max_tokens=1000,\n",
        "            temperature=0.7\n",
        "    )\n",
        "\n",
        "    display = response.choices[0].message.content\n",
        "    return display\n",
        "  except Exception as e:\n",
        "    print(f\"Error while translate: {e}\")\n",
        "    return None\n",
        "\n",
        "\n",
        "\n",
        "\n",
        "if __name__ == \"__main__\":\n",
        "    url = input(\"Paste the news article link: \")\n",
        "    article_content = scrape_website(url)\n",
        "\n",
        "    if article_content:\n",
        "        print(\"\\nArticle Content:\\n\\n\", article_content)\n",
        "        display = translate(article_content)\n",
        "        if display:\n",
        "            print(\"\\n Translate of the Article:\\n\\n\", display)\n",
        "            with open(\"saved_file.txt\", \"w\") as saved_file:\n",
        "\n",
        "                saved_file.write(display)\n",
        "    else:\n",
        "        print(\"Failed to extract article content.\")\n"
      ]
    },
    {
      "cell_type": "markdown",
      "metadata": {
        "id": "uOcylog6AS10"
      },
      "source": [
        "5"
      ]
    },
    {
      "cell_type": "markdown",
      "metadata": {
        "id": "epLEOpKDAgsO"
      },
      "source": []
    },
    {
      "cell_type": "code",
      "execution_count": 19,
      "metadata": {
        "colab": {
          "base_uri": "https://localhost:8080/"
        },
        "id": "LuW6CrIaAfeZ",
        "outputId": "64397fa0-830e-460d-aa2c-6b8df446ade1"
      },
      "outputs": [
        {
          "name": "stdout",
          "output_type": "stream",
          "text": [
            "Paste coding question: write an program to play rock paper scissor\n",
            "\n",
            "The answer is here:\n",
            "\n",
            " Here is a simple Python program that implements a Rock, Paper, Scissors game. This program allows a user to play against the computer, with clear comments to explain each step.\n",
            "\n",
            "```python\n",
            "import random\n",
            "\n",
            "def get_user_choice():\n",
            "    \"\"\"Prompt the user for their choice and return it.\"\"\"\n",
            "    user_input = input(\"Enter your choice (rock, paper, scissors): \").lower()\n",
            "    while user_input not in ['rock', 'paper', 'scissors']:\n",
            "        print(\"Invalid choice. Please choose 'rock', 'paper', or 'scissors'.\")\n",
            "        user_input = input(\"Enter your choice (rock, paper, scissors): \").lower()\n",
            "    return user_input\n",
            "\n",
            "def get_computer_choice():\n",
            "    \"\"\"Randomly select and return a choice for the computer.\"\"\"\n",
            "    return random.choice(['rock', 'paper', 'scissors'])\n",
            "\n",
            "def determine_winner(user_choice, computer_choice):\n",
            "    \"\"\"Determine the winner based on user and computer choices.\"\"\"\n",
            "    if user_choice == computer_choice:\n",
            "        return \"It's a tie!\"\n",
            "    elif (user_choice == 'rock' and computer_choice == 'scissors') or \\\n",
            "         (user_choice == 'paper' and computer_choice == 'rock') or \\\n",
            "         (user_choice == 'scissors' and computer_choice == 'paper'):\n",
            "        return \"You win!\"\n",
            "    else:\n",
            "        return \"You lose!\"\n",
            "\n",
            "def play_game():\n",
            "    \"\"\"Main function to play the Rock, Paper, Scissors game.\"\"\"\n",
            "    print(\"Welcome to Rock, Paper, Scissors!\")\n",
            "    \n",
            "    user_choice = get_user_choice()\n",
            "    computer_choice = get_computer_choice()\n",
            "    \n",
            "    print(f\"You chose: {user_choice}\")\n",
            "    print(f\"Computer chose: {computer_choice}\")\n",
            "    \n",
            "    result = determine_winner(user_choice, computer_choice)\n",
            "    print(result)\n",
            "\n",
            "if __name__ == \"__main__\":\n",
            "    play_game()\n",
            "```\n",
            "\n",
            "### Explanation:\n",
            "1. **get_user_choice**: This function prompts the user to enter their choice and validates the input to ensure it is one of the three valid options.\n",
            "2. **get_computer_choice**: This function randomly selects a choice for the computer from the same three options.\n",
            "3. **determine_winner**: This function takes the user's choice and the computer's choice as arguments and determines the outcome of the game.\n",
            "4. **play_game**: This is the main function that orchestrates the game flow, calling the other functions and displaying the results.\n",
            "5. **Entry Point**: The `if __name__ == \"__main__\":` block ensures that the game starts when the script is run directly.\n",
            "\n",
            "This program provides a simple yet functional implementation of the Rock, Paper, Scissors game, following Python best practices for readability and clean code.\n",
            "\n",
            "Solution:\n",
            "\n",
            " ```python\n",
            "import random\n",
            "\n",
            "def get_user_choice():\n",
            "    \"\"\"Prompt the user for their choice and return it.\"\"\"\n",
            "    user_input = input(\"Enter your choice (rock, paper, scissors): \").lower()\n",
            "    while user_input not in ['rock', 'paper', 'scissors']:\n",
            "        print(\"Invalid choice. Please choose 'rock', 'paper', or 'scissors'.\")\n",
            "        user_input = input(\"Enter your choice (rock, paper, scissors): \").lower()\n",
            "    return user_input\n",
            "\n",
            "def get_computer_choice():\n",
            "    \"\"\"Randomly select and return a choice for the computer.\"\"\"\n",
            "    return random.choice(['rock', 'paper', 'scissors'])\n",
            "\n",
            "def determine_winner(user_choice, computer_choice):\n",
            "    \"\"\"Determine the winner based on user and computer choices.\"\"\"\n",
            "    if user_choice == computer_choice:\n",
            "        return \"It's a tie!\"\n",
            "    elif (user_choice == 'rock' and computer_choice == 'scissors') or \\\n",
            "         (user_choice == 'paper' and computer_choice == 'rock') or \\\n",
            "         (user_choice == 'scissors' and computer_choice == 'paper'):\n",
            "        return \"You win!\"\n",
            "    else:\n",
            "        return \"You lose!\"\n",
            "\n",
            "def play_game():\n",
            "    \"\"\"Main function to play the Rock, Paper, Scissors game.\"\"\"\n",
            "    print(\"Welcome to Rock, Paper, Scissors!\")\n",
            "    \n",
            "    user_choice = get_user_choice()\n",
            "    computer_choice = get_computer_choice()\n",
            "    \n",
            "    print(f\"You chose: {user_choice}\")\n",
            "    print(f\"Computer chose: {computer_choice}\")\n",
            "    \n",
            "    result = determine_winner(user_choice, computer_choice)\n",
            "    print(result)\n",
            "\n",
            "if __name__ == \"__main__\":\n",
            "    play_game()\n",
            "```\n"
          ]
        }
      ],
      "source": [
        "def writing_code(code):\n",
        "    try:\n",
        "        response = client.chat.completions.create(\n",
        "            model=\"gpt-4o-mini\",\n",
        "            messages=[\n",
        "                {\"role\": \"system\", \"content\": \"You are a software developer.\"},\n",
        "                {\n",
        "                    \"role\": \"user\",\n",
        "                    \"content\": (\n",
        "                        f\" this question {code}, you are a software developer. Take a deep breath and think step by step, \"\n",
        "                        \"then clearly describe the task to be accomplished in this coding question. \"\n",
        "                        \"Output by: Python/JavaScript , only code . Code style: write clean, readable, well-commented code following Python best practices.\"\n",
        "                    ),\n",
        "                },\n",
        "            ],\n",
        "            max_tokens=1000,  \n",
        "            temperature=0.7\n",
        "        )\n",
        "        response_message = response.choices[0].message.content\n",
        "        return response_message\n",
        "    except Exception as e:\n",
        "        print(f\"Error : {e}\")\n",
        "        return None\n",
        "\n",
        "if __name__ == \"__main__\":\n",
        "    coding_question = input(\"Paste coding question: \")\n",
        "    process_code = writing_code(coding_question)\n",
        "\n",
        "    if process_code:\n",
        "        print(\"\\nThe answer is here:\\n\\n\", process_code)\n",
        "\n",
        "        answer = writing_code(process_code)\n",
        "        if answer:\n",
        "            print(\"\\nSolution:\\n\\n\", answer)\n",
        "            with open(\"solution.py\", \"w\") as saved_file:\n",
        "                saved_file.write(answer)\n",
        "        else:\n",
        "            print(\"Too hard to generate a solution.\")\n",
        "    else:\n",
        "        print(\"Cannot understand what you mean.\")\n"
      ]
    },
    {
      "cell_type": "code",
      "execution_count": 20,
      "metadata": {
        "colab": {
          "base_uri": "https://localhost:8080/"
        },
        "id": "9degfFDl-07E",
        "outputId": "ab883e6e-6852-488b-f5eb-393bd326c072"
      },
      "outputs": [
        {
          "name": "stdout",
          "output_type": "stream",
          "text": [
            "Welcome to Rock, Paper, Scissors!\n",
            "Enter your choice (rock, paper, scissors): rock\n",
            "You chose: rock\n",
            "Computer chose: scissors\n",
            "You win!\n"
          ]
        }
      ],
      "source": [
        "#```python\n",
        "import random\n",
        "\n",
        "def get_user_choice():\n",
        "    \"\"\"Prompt the user for their choice and return it.\"\"\"\n",
        "    user_input = input(\"Enter your choice (rock, paper, scissors): \").lower()\n",
        "    while user_input not in ['rock', 'paper', 'scissors']:\n",
        "        print(\"Invalid choice. Please choose 'rock', 'paper', or 'scissors'.\")\n",
        "        user_input = input(\"Enter your choice (rock, paper, scissors): \").lower()\n",
        "    return user_input\n",
        "\n",
        "def get_computer_choice():\n",
        "    \"\"\"Randomly select and return a choice for the computer.\"\"\"\n",
        "    return random.choice(['rock', 'paper', 'scissors'])\n",
        "\n",
        "def determine_winner(user_choice, computer_choice):\n",
        "    \"\"\"Determine the winner based on user and computer choices.\"\"\"\n",
        "    if user_choice == computer_choice:\n",
        "        return \"It's a tie!\"\n",
        "    elif (user_choice == 'rock' and computer_choice == 'scissors') or \\\n",
        "         (user_choice == 'paper' and computer_choice == 'rock') or \\\n",
        "         (user_choice == 'scissors' and computer_choice == 'paper'):\n",
        "        return \"You win!\"\n",
        "    else:\n",
        "        return \"You lose!\"\n",
        "\n",
        "def play_game():\n",
        "    \"\"\"Main function to play the Rock, Paper, Scissors game.\"\"\"\n",
        "    print(\"Welcome to Rock, Paper, Scissors!\")\n",
        "\n",
        "    user_choice = get_user_choice()\n",
        "    computer_choice = get_computer_choice()\n",
        "\n",
        "    print(f\"You chose: {user_choice}\")\n",
        "    print(f\"Computer chose: {computer_choice}\")\n",
        "\n",
        "    result = determine_winner(user_choice, computer_choice)\n",
        "    print(result)\n",
        "\n",
        "if __name__ == \"__main__\":\n",
        "    play_game()"
      ]
    }
  ],
  "metadata": {
    "colab": {
      "provenance": []
    },
    "kernelspec": {
      "display_name": "Python 3",
      "name": "python3"
    },
    "language_info": {
      "name": "python"
    }
  },
  "nbformat": 4,
  "nbformat_minor": 0
}
